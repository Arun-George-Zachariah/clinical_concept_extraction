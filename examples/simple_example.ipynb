{
 "cells": [
  {
   "cell_type": "code",
   "execution_count": 1,
   "metadata": {
    "scrolled": false
   },
   "outputs": [
    {
     "name": "stderr",
     "output_type": "stream",
     "text": [
      "/home/henghuiz/anaconda3/lib/python3.6/site-packages/sklearn/base.py:251: UserWarning: Trying to unpickle estimator DecisionTreeClassifier from version 0.19.1 when using version 0.20.0. This might lead to breaking code or invalid results. Use at your own risk.\n",
      "  UserWarning)\n"
     ]
    }
   ],
   "source": [
    "import nltk\n",
    "import re\n",
    "\n",
    "from simple_sentence_segment import sentence_segment\n",
    "from clinical_concept_extraction import clinical_concept_extraction"
   ]
  },
  {
   "cell_type": "code",
   "execution_count": 2,
   "metadata": {},
   "outputs": [],
   "source": [
    "sample_text = \"\"\"\n",
    "This is an 119 year old woman with a history of diabetes \n",
    "who has a CT-scan at 2020-20-20. Insulin is prescribed\n",
    "for the type-2 diabetes. Within the past year, the diabetic\n",
    "symptoms have progressively gotten worse.\n",
    "\"\"\""
   ]
  },
  {
   "cell_type": "code",
   "execution_count": 3,
   "metadata": {},
   "outputs": [],
   "source": [
    "def parse_text(text):\n",
    "    all_sentences = []\n",
    "    for span in sentence_segment(text):\n",
    "        sentence = sample_text[span[0]:span[1]]\n",
    "        sentence = re.sub('\\n', ' ', sentence)\n",
    "        sentence = re.sub(r'\\ +', ' ', sentence)\n",
    "        sentence = sentence.strip()\n",
    "\n",
    "        if len(sentence) > 0:\n",
    "            tokens = nltk.word_tokenize(sentence)\n",
    "            all_sentences.append(tokens)\n",
    "    return all_sentences"
   ]
  },
  {
   "cell_type": "code",
   "execution_count": 4,
   "metadata": {},
   "outputs": [
    {
     "name": "stdout",
     "output_type": "stream",
     "text": [
      "['This', 'is', 'an', '119', 'year', 'old', 'woman', 'with', 'a', 'history', 'of', 'diabetes', 'who', 'has', 'a', 'CT-scan', 'at', '2020-20-20', '.']\n",
      "['Insulin', 'is', 'prescribed', 'for', 'the', 'type-2', 'diabetes', '.']\n",
      "['Within', 'the', 'past', 'year', ',', 'the', 'diabetic', 'symptoms', 'have', 'progressively', 'gotten', 'worse', '.']\n"
     ]
    }
   ],
   "source": [
    "tokenized_sentences = parse_text(sample_text)\n",
    "for sentence in tokenized_sentences:\n",
    "    print(sentence)"
   ]
  },
  {
   "cell_type": "code",
   "execution_count": 5,
   "metadata": {
    "scrolled": false
   },
   "outputs": [
    {
     "name": "stdout",
     "output_type": "stream",
     "text": [
      "WARNING:tensorflow:From /home/henghuiz/anaconda3/lib/python3.6/site-packages/bilm/model.py:384: calling squeeze (from tensorflow.python.ops.array_ops) with squeeze_dims is deprecated and will be removed in a future version.\n",
      "Instructions for updating:\n",
      "Use the `axis` argument instead\n",
      "USING SKIP CONNECTIONS\n",
      "WARNING:tensorflow:From /home/henghuiz/anaconda3/lib/python3.6/site-packages/tensorflow/python/ops/rnn.py:430: calling reverse_sequence (from tensorflow.python.ops.array_ops) with seq_dim is deprecated and will be removed in a future version.\n",
      "Instructions for updating:\n",
      "seq_dim is deprecated, use seq_axis instead\n",
      "WARNING:tensorflow:From /home/henghuiz/anaconda3/lib/python3.6/site-packages/tensorflow/python/util/deprecation.py:454: calling reverse_sequence (from tensorflow.python.ops.array_ops) with batch_dim is deprecated and will be removed in a future version.\n",
      "Instructions for updating:\n",
      "batch_dim is deprecated, use batch_axis instead\n",
      "INFO:tensorflow:Restoring parameters from /home/henghuiz/Downloads/cce/blstm/model\n"
     ]
    }
   ],
   "source": [
    "all_annotations = clinical_concept_extraction(tokenized_sentences)"
   ]
  },
  {
   "cell_type": "code",
   "execution_count": 6,
   "metadata": {},
   "outputs": [
    {
     "name": "stdout",
     "output_type": "stream",
     "text": [
      "                          This O\n",
      "                            is O\n",
      "                            an O\n",
      "                           119 O\n",
      "                          year O\n",
      "                           old O\n",
      "                         woman O\n",
      "                          with O\n",
      "                             a O\n",
      "                       history O\n",
      "                            of O\n",
      "                      diabetes B-problem\n",
      "                           who O\n",
      "                           has O\n",
      "                             a B-test\n",
      "                       CT-scan I-test\n",
      "                            at O\n",
      "                    2020-20-20 O\n",
      "                             . O\n",
      "=============================================================\n",
      "                       Insulin B-treatment\n",
      "                            is O\n",
      "                    prescribed O\n",
      "                           for O\n",
      "                           the B-problem\n",
      "                        type-2 I-problem\n",
      "                      diabetes I-problem\n",
      "                             . O\n",
      "=============================================================\n",
      "                        Within O\n",
      "                           the O\n",
      "                          past O\n",
      "                          year O\n",
      "                             , O\n",
      "                           the B-problem\n",
      "                      diabetic I-problem\n",
      "                      symptoms I-problem\n",
      "                          have O\n",
      "                 progressively O\n",
      "                        gotten O\n",
      "                         worse O\n",
      "                             . O\n",
      "=============================================================\n"
     ]
    }
   ],
   "source": [
    "for sent_, ann_ in zip(tokenized_sentences, all_annotations):\n",
    "    for t, a in zip(sent_, ann_):\n",
    "        print('%30s %s' % (t, a))\n",
    "    print('='*61)"
   ]
  }
 ],
 "metadata": {
  "kernelspec": {
   "display_name": "Python 3",
   "language": "python",
   "name": "python3"
  },
  "language_info": {
   "codemirror_mode": {
    "name": "ipython",
    "version": 3
   },
   "file_extension": ".py",
   "mimetype": "text/x-python",
   "name": "python",
   "nbconvert_exporter": "python",
   "pygments_lexer": "ipython3",
   "version": "3.6.6"
  }
 },
 "nbformat": 4,
 "nbformat_minor": 2
}
