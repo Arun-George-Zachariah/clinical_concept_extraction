{
 "cells": [
  {
   "cell_type": "code",
   "execution_count": 1,
   "metadata": {},
   "outputs": [
    {
     "name": "stderr",
     "output_type": "stream",
     "text": [
      "/home/henghuiz/anaconda3/lib/python3.6/site-packages/sklearn/base.py:251: UserWarning: Trying to unpickle estimator DecisionTreeClassifier from version 0.19.1 when using version 0.20.0. This might lead to breaking code or invalid results. Use at your own risk.\n",
      "  UserWarning)\n"
     ]
    }
   ],
   "source": [
    "import nltk\n",
    "import re\n",
    "from spacy import displacy\n",
    "from IPython.core.display import display, HTML\n",
    "\n",
    "from simple_sentence_segment import sentence_segment\n",
    "from clinical_concept_extraction import clinical_concept_extraction"
   ]
  },
  {
   "cell_type": "code",
   "execution_count": 2,
   "metadata": {},
   "outputs": [],
   "source": [
    "sample_text = \"\"\"\n",
    "This is an 119 year old woman with a history of diabetes \n",
    "who has a CT-scan at 2020-20-20. Insulin is prescribed\n",
    "for the type-2 diabetes. Within the past year, the diabetic\n",
    "symptoms have progressively gotten worse.\n",
    "\"\"\""
   ]
  },
  {
   "cell_type": "code",
   "execution_count": 3,
   "metadata": {},
   "outputs": [],
   "source": [
    "def parse_text(text):\n",
    "    tokenizer = nltk.tokenize.TreebankWordTokenizer()\n",
    "    all_sentences = []\n",
    "    all_spans = []\n",
    "    start = 0\n",
    "    normalized_text = ''\n",
    "    for span in sentence_segment(text):\n",
    "        sentence = sample_text[span[0]:span[1]]\n",
    "        sentence = re.sub('\\n', ' ', sentence)\n",
    "        sentence = re.sub(r'\\ +', ' ', sentence)\n",
    "        sentence = sentence.strip()\n",
    "\n",
    "        if len(sentence) > 0:\n",
    "            tokens_span = tokenizer.span_tokenize(sentence)\n",
    "            tokens = []\n",
    "            spans = []\n",
    "            for span in tokens_span:\n",
    "                tokens.append(sentence[span[0]:span[1]])\n",
    "                spans.append([start + span[0], start + span[1]])\n",
    "                \n",
    "            all_sentences.append(tokens)\n",
    "            all_spans.append(spans)\n",
    "            \n",
    "            start += len(sentence) + 1\n",
    "            normalized_text += sentence + '\\n'\n",
    "    return all_sentences, all_spans, normalized_text.strip()"
   ]
  },
  {
   "cell_type": "code",
   "execution_count": 4,
   "metadata": {},
   "outputs": [
    {
     "name": "stdout",
     "output_type": "stream",
     "text": [
      "This is an 119 year old woman with a history of diabetes who has a CT-scan at 2020-20-20.\n",
      "Insulin is prescribed for the type-2 diabetes.\n",
      "Within the past year, the diabetic symptoms have progressively gotten worse.\n"
     ]
    }
   ],
   "source": [
    "tokenized_sentences, all_spans, normalized_text = parse_text(sample_text)\n",
    "print(normalized_text)"
   ]
  },
  {
   "cell_type": "code",
   "execution_count": 5,
   "metadata": {},
   "outputs": [
    {
     "name": "stdout",
     "output_type": "stream",
     "text": [
      "WARNING:tensorflow:From /home/henghuiz/anaconda3/lib/python3.6/site-packages/bilm/model.py:384: calling squeeze (from tensorflow.python.ops.array_ops) with squeeze_dims is deprecated and will be removed in a future version.\n",
      "Instructions for updating:\n",
      "Use the `axis` argument instead\n",
      "USING SKIP CONNECTIONS\n",
      "WARNING:tensorflow:From /home/henghuiz/anaconda3/lib/python3.6/site-packages/tensorflow/python/ops/rnn.py:430: calling reverse_sequence (from tensorflow.python.ops.array_ops) with seq_dim is deprecated and will be removed in a future version.\n",
      "Instructions for updating:\n",
      "seq_dim is deprecated, use seq_axis instead\n",
      "WARNING:tensorflow:From /home/henghuiz/anaconda3/lib/python3.6/site-packages/tensorflow/python/util/deprecation.py:454: calling reverse_sequence (from tensorflow.python.ops.array_ops) with batch_dim is deprecated and will be removed in a future version.\n",
      "Instructions for updating:\n",
      "batch_dim is deprecated, use batch_axis instead\n",
      "INFO:tensorflow:Restoring parameters from /home/henghuiz/Downloads/cce/blstm/model\n"
     ]
    }
   ],
   "source": [
    "all_annotations = clinical_concept_extraction(tokenized_sentences)"
   ]
  },
  {
   "cell_type": "code",
   "execution_count": 6,
   "metadata": {},
   "outputs": [
    {
     "data": {
      "text/plain": [
       "[['O',\n",
       "  'O',\n",
       "  'O',\n",
       "  'O',\n",
       "  'O',\n",
       "  'O',\n",
       "  'O',\n",
       "  'O',\n",
       "  'O',\n",
       "  'O',\n",
       "  'O',\n",
       "  'B-problem',\n",
       "  'O',\n",
       "  'O',\n",
       "  'B-test',\n",
       "  'I-test',\n",
       "  'O',\n",
       "  'O',\n",
       "  'O'],\n",
       " ['B-treatment', 'O', 'O', 'O', 'B-problem', 'I-problem', 'I-problem', 'O'],\n",
       " ['O',\n",
       "  'O',\n",
       "  'O',\n",
       "  'O',\n",
       "  'O',\n",
       "  'B-problem',\n",
       "  'I-problem',\n",
       "  'I-problem',\n",
       "  'O',\n",
       "  'O',\n",
       "  'O',\n",
       "  'O',\n",
       "  'O']]"
      ]
     },
     "execution_count": 6,
     "metadata": {},
     "output_type": "execute_result"
    }
   ],
   "source": [
    "all_annotations"
   ]
  },
  {
   "cell_type": "code",
   "execution_count": 7,
   "metadata": {},
   "outputs": [],
   "source": [
    "def build_display_elements(tokens, annotations, spans):\n",
    "    all_ann = []\n",
    "\n",
    "    for sent_id, sent_info in enumerate(tokens):\n",
    "        sent_length = len(tokens[sent_id])\n",
    "\n",
    "        last_ann = 'O'\n",
    "        last_start = None\n",
    "        last_end = None\n",
    "        for token_id in range(sent_length):\n",
    "            this_ann = annotations[sent_id][token_id]\n",
    "\n",
    "            # separated cases:\n",
    "            if this_ann != last_ann:\n",
    "                if last_ann != 'O':\n",
    "                    # write last item\n",
    "                    new_ent = {}\n",
    "                    new_ent['start'] = last_start\n",
    "                    new_ent['end'] = last_end\n",
    "                    new_ent['label'] = last_ann[2:]\n",
    "                    all_ann.append(new_ent)\n",
    "\n",
    "                # record this instance\n",
    "                last_ann = 'O' if this_ann == 'O' else 'I' + this_ann[1:]\n",
    "                last_start = spans[sent_id][token_id][0]\n",
    "                last_end = spans[sent_id][token_id][1]\n",
    "\n",
    "            else:\n",
    "                last_ann = this_ann\n",
    "                last_end = spans[sent_id][token_id][1]\n",
    "\n",
    "        if last_ann != 'O':\n",
    "            new_ent = {}\n",
    "            new_ent['start'] = last_start\n",
    "            new_ent['end'] = last_end\n",
    "            new_ent['label'] = last_ann[2:]\n",
    "            all_ann.append(new_ent)\n",
    "\n",
    "    return all_ann"
   ]
  },
  {
   "cell_type": "code",
   "execution_count": 8,
   "metadata": {},
   "outputs": [],
   "source": [
    "ent = build_display_elements(tokenized_sentences, all_annotations, all_spans)"
   ]
  },
  {
   "cell_type": "code",
   "execution_count": 9,
   "metadata": {},
   "outputs": [
    {
     "data": {
      "text/html": [
       "<div class=\"entities\" style=\"line-height: 2.5\">This is an 119 year old woman with a history of \n",
       "<mark class=\"entity\" style=\"background: #fe4a49; padding: 0.45em 0.6em; margin: 0 0.25em; line-height: 1; border-radius: 0.35em; box-decoration-break: clone; -webkit-box-decoration-break: clone\">\n",
       "    diabetes\n",
       "    <span style=\"font-size: 0.8em; font-weight: bold; line-height: 1; border-radius: 0.35em; text-transform: uppercase; vertical-align: middle; margin-left: 0.5rem\">problem</span>\n",
       "</mark>\n",
       " who has \n",
       "<mark class=\"entity\" style=\"background: #fed766; padding: 0.45em 0.6em; margin: 0 0.25em; line-height: 1; border-radius: 0.35em; box-decoration-break: clone; -webkit-box-decoration-break: clone\">\n",
       "    a CT-scan\n",
       "    <span style=\"font-size: 0.8em; font-weight: bold; line-height: 1; border-radius: 0.35em; text-transform: uppercase; vertical-align: middle; margin-left: 0.5rem\">test</span>\n",
       "</mark>\n",
       " at 2020-20-20.</br>\n",
       "<mark class=\"entity\" style=\"background: #2ab7ca; padding: 0.45em 0.6em; margin: 0 0.25em; line-height: 1; border-radius: 0.35em; box-decoration-break: clone; -webkit-box-decoration-break: clone\">\n",
       "    Insulin\n",
       "    <span style=\"font-size: 0.8em; font-weight: bold; line-height: 1; border-radius: 0.35em; text-transform: uppercase; vertical-align: middle; margin-left: 0.5rem\">treatment</span>\n",
       "</mark>\n",
       " is prescribed for \n",
       "<mark class=\"entity\" style=\"background: #fe4a49; padding: 0.45em 0.6em; margin: 0 0.25em; line-height: 1; border-radius: 0.35em; box-decoration-break: clone; -webkit-box-decoration-break: clone\">\n",
       "    the type-2 diabetes\n",
       "    <span style=\"font-size: 0.8em; font-weight: bold; line-height: 1; border-radius: 0.35em; text-transform: uppercase; vertical-align: middle; margin-left: 0.5rem\">problem</span>\n",
       "</mark>\n",
       ".</br>Within the past year, \n",
       "<mark class=\"entity\" style=\"background: #fe4a49; padding: 0.45em 0.6em; margin: 0 0.25em; line-height: 1; border-radius: 0.35em; box-decoration-break: clone; -webkit-box-decoration-break: clone\">\n",
       "    the diabetic symptoms\n",
       "    <span style=\"font-size: 0.8em; font-weight: bold; line-height: 1; border-radius: 0.35em; text-transform: uppercase; vertical-align: middle; margin-left: 0.5rem\">problem</span>\n",
       "</mark>\n",
       " have progressively gotten worse.</div>"
      ],
      "text/plain": [
       "<IPython.core.display.HTML object>"
      ]
     },
     "metadata": {},
     "output_type": "display_data"
    }
   ],
   "source": [
    "ent_inp = {\n",
    "    'text': normalized_text,\n",
    "    'ents': ent,\n",
    "    'title': ''\n",
    "}\n",
    "\n",
    "colors = {'PROBLEM': '#fe4a49', 'TEST': '#fed766', 'TREATMENT': '#2ab7ca'}\n",
    "options = {'colors': colors}\n",
    "\n",
    "html = displacy.render(ent_inp, style='ent', manual=True, options=options)\n",
    "display(HTML(html))"
   ]
  }
 ],
 "metadata": {
  "kernelspec": {
   "display_name": "Python 3",
   "language": "python",
   "name": "python3"
  },
  "language_info": {
   "codemirror_mode": {
    "name": "ipython",
    "version": 3
   },
   "file_extension": ".py",
   "mimetype": "text/x-python",
   "name": "python",
   "nbconvert_exporter": "python",
   "pygments_lexer": "ipython3",
   "version": "3.6.6"
  }
 },
 "nbformat": 4,
 "nbformat_minor": 2
}
